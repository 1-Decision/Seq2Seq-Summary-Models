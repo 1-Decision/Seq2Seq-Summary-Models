{
 "cells": [
  {
   "cell_type": "code",
   "execution_count": 2,
   "id": "47817992-117b-4a7a-9489-d26ffb62db32",
   "metadata": {
    "execution": {
     "iopub.execute_input": "2022-08-13T16:49:52.800006Z",
     "iopub.status.busy": "2022-08-13T16:49:52.799583Z",
     "iopub.status.idle": "2022-08-13T16:49:53.349699Z",
     "shell.execute_reply": "2022-08-13T16:49:53.348890Z",
     "shell.execute_reply.started": "2022-08-13T16:49:52.799976Z"
    }
   },
   "outputs": [
    {
     "name": "stdout",
     "output_type": "stream",
     "text": [
      "Python 3.9.13\n"
     ]
    }
   ],
   "source": [
    "!python --version"
   ]
  },
  {
   "cell_type": "markdown",
   "id": "7133d7ff-3af1-4789-979c-71c09e731c4b",
   "metadata": {},
   "source": [
    "# Do not run subsequent cell unless t5-large.pt doesn't exist"
   ]
  },
  {
   "cell_type": "code",
   "execution_count": 6,
   "id": "eeaed773-83e1-46cf-a2a9-5befe97e4b9e",
   "metadata": {
    "execution": {
     "iopub.execute_input": "2022-08-14T17:09:29.166604Z",
     "iopub.status.busy": "2022-08-14T17:09:29.165788Z",
     "iopub.status.idle": "2022-08-14T17:11:57.185158Z",
     "shell.execute_reply": "2022-08-14T17:11:57.184122Z",
     "shell.execute_reply.started": "2022-08-14T17:09:29.166575Z"
    }
   },
   "outputs": [
    {
     "data": {
      "application/vnd.jupyter.widget-view+json": {
       "model_id": "3b0fd64e5af049d69f6e9d780d490dea",
       "version_major": 2,
       "version_minor": 0
      },
      "text/plain": [
       "Downloading:   0%|          | 0.00/1.17k [00:00<?, ?B/s]"
      ]
     },
     "metadata": {},
     "output_type": "display_data"
    },
    {
     "data": {
      "application/vnd.jupyter.widget-view+json": {
       "model_id": "ac5f9d345dbe4d4184430eb1268d2df5",
       "version_major": 2,
       "version_minor": 0
      },
      "text/plain": [
       "Downloading:   0%|          | 0.00/2.75G [00:00<?, ?B/s]"
      ]
     },
     "metadata": {},
     "output_type": "display_data"
    },
    {
     "data": {
      "application/vnd.jupyter.widget-view+json": {
       "model_id": "404c723407dc4181be27410726a465af",
       "version_major": 2,
       "version_minor": 0
      },
      "text/plain": [
       "Downloading:   0%|          | 0.00/773k [00:00<?, ?B/s]"
      ]
     },
     "metadata": {},
     "output_type": "display_data"
    },
    {
     "data": {
      "application/vnd.jupyter.widget-view+json": {
       "model_id": "4b6628e9cae54a8bbef8d1a1bdd7f2a2",
       "version_major": 2,
       "version_minor": 0
      },
      "text/plain": [
       "Downloading:   0%|          | 0.00/1.32M [00:00<?, ?B/s]"
      ]
     },
     "metadata": {},
     "output_type": "display_data"
    },
    {
     "name": "stderr",
     "output_type": "stream",
     "text": [
      "/usr/local/lib/python3.9/dist-packages/transformers/models/t5/tokenization_t5_fast.py:156: FutureWarning: This tokenizer was incorrectly instantiated with a model max length of 512 which will be corrected in Transformers v5.\n",
      "For now, this behavior is kept to avoid breaking backwards compatibility when padding/encoding with `truncation is True`.\n",
      "- Be aware that you SHOULD NOT rely on t5-large automatically truncating your input to 512 when padding/encoding.\n",
      "- If you want to encode/pad to sequences longer than 512 you can either instantiate this tokenizer with `model_max_length` or pass `max_length` when encoding/padding.\n",
      "- To avoid this warning, please instantiate this tokenizer with `model_max_length` set to your preferred value.\n",
      "  warnings.warn(\n"
     ]
    }
   ],
   "source": [
    "#from transformers import AutoModelForSeq2SeqLM, AutoTokenizer, Seq2SeqTrainingArguments, Seq2SeqTrainer\n",
    "#import torch    \n",
    "\n",
    "#model = AutoModelForSeq2SeqLM.from_pretrained(\"t5-large\") #, revision=\"float16\", torch_dtype=torch.float16, low_cpu_mem_usage=True)\n",
    "#tokenizer = AutoTokenizer.from_pretrained(\"t5-large\")\n",
    "\n",
    "#torch.save(model, \"t5-large.pt\")\n",
    "#torch.save(tokenizer, \"tokenizer-t5-large.pt\")"
   ]
  },
  {
   "cell_type": "markdown",
   "id": "daa7565a-d783-45e8-95ad-b37062940906",
   "metadata": {},
   "source": [
    "# Load Presaved Model"
   ]
  },
  {
   "cell_type": "code",
   "execution_count": 14,
   "id": "1a6ed796-24fe-40ec-954f-a19cc5d820fc",
   "metadata": {
    "execution": {
     "iopub.execute_input": "2022-08-13T19:45:18.225579Z",
     "iopub.status.busy": "2022-08-13T19:45:18.225307Z",
     "iopub.status.idle": "2022-08-13T19:45:49.836296Z",
     "shell.execute_reply": "2022-08-13T19:45:49.835615Z",
     "shell.execute_reply.started": "2022-08-13T19:45:18.225560Z"
    }
   },
   "outputs": [],
   "source": [
    "from transformers import AutoModelForSeq2SeqLM, AutoTokenizer, Seq2SeqTrainingArguments, Seq2SeqTrainer\n",
    "import torch\n",
    "\n",
    "model = torch.load(\"t5-large.pt\")\n",
    "\n",
    "tokenizer = torch.load(\"tokenizer-t5-large.pt\")"
   ]
  },
  {
   "cell_type": "code",
   "execution_count": 7,
   "id": "1db9e40a-4e61-4824-8b72-5215afce16d0",
   "metadata": {
    "execution": {
     "iopub.execute_input": "2022-08-14T17:12:31.449639Z",
     "iopub.status.busy": "2022-08-14T17:12:31.448932Z",
     "iopub.status.idle": "2022-08-14T17:12:34.660056Z",
     "shell.execute_reply": "2022-08-14T17:12:34.659273Z",
     "shell.execute_reply.started": "2022-08-14T17:12:31.449610Z"
    }
   },
   "outputs": [
    {
     "data": {
      "text/plain": [
       "[{'summary_text': 'the recipes below are the easiest kind of slow cooker recipe, the fix-it-and-forget-it sort . there is no presearing or sautéing, and very little prep . Ali slagle offers the perfect summer comfort meal with spiced meatballs .'}]"
      ]
     },
     "execution_count": 7,
     "metadata": {},
     "output_type": "execute_result"
    }
   ],
   "source": [
    "from transformers import pipeline\n",
    "# create pipeline\n",
    "gen = pipeline(\"summarization\",model=model,tokenizer=tokenizer,device=0)\n",
    "\n",
    "text_data = \"\"\"\n",
    "When the summer sun is blazing, the mere idea of turning on the oven — even for the most wonderful dish — is revolting. Sure, you may have air conditioning, but why heat up the kitchen if you don’t have to? (You came inside to escape the stickiness and sweat!) You could artfully compose a salad or assemble a no-cook meal — and we have so many lovely ones here and here — but eventually, you’re going to want a warm meal. Enter the slow cooker.\n",
    "\n",
    "The recipes below are the easiest kind of slow cooker recipe, the fix-it-and-forget-it sort. There is no presearing or sautéing, and very little prep. You just toss the ingredients into the crock and let it simmer away while you head out to the beach or to work, or just curl up with a good book in front of the air-conditioner. Several hours later, dinner is ready.\n",
    "1. Slow Cooker Kofte in Tomato-Lime Broth\n",
    "Image\n",
    "Two kofte sit atop a dark bowl strewn with herbs and cooked-down tomatoes. At the bottom of the bowl is orzo in broth.\n",
    "Credit...Joel Goldberg for The New York Times. Food Stylist: Barrett Washburne.\n",
    "Two kofte sit atop a dark bowl strewn with herbs and cooked-down tomatoes. At the bottom of the bowl is orzo in broth.\n",
    "\n",
    "Ali Slagle offers the perfect summer comfort meal with this dish of spiced meatballs simmered with cherry tomatoes and lime. Prepared in the style of kofte, the ground meat is combined with fresh herbs, turmeric and yogurt, which helps bind the meat and provides a lovely tang. Feel free to use lamb, beef, turkey or a combination. (One reader used alternative meat with happy results.) Serve over a pile of buttered orzo and sprinkle with fresh herbs.\n",
    "\n",
    "\"\"\"\n",
    "\n",
    "# run prediction\n",
    "gen(text_data)\n"
   ]
  },
  {
   "cell_type": "code",
   "execution_count": null,
   "id": "58f746ba-419c-46f6-bf35-bc51cff84374",
   "metadata": {},
   "outputs": [],
   "source": []
  }
 ],
 "metadata": {
  "kernelspec": {
   "display_name": "Python 3 (ipykernel)",
   "language": "python",
   "name": "python3"
  },
  "language_info": {
   "codemirror_mode": {
    "name": "ipython",
    "version": 3
   },
   "file_extension": ".py",
   "mimetype": "text/x-python",
   "name": "python",
   "nbconvert_exporter": "python",
   "pygments_lexer": "ipython3",
   "version": "3.9.13"
  }
 },
 "nbformat": 4,
 "nbformat_minor": 5
}
